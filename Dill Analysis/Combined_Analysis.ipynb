{
 "cells": [
  {
   "cell_type": "markdown",
   "metadata": {},
   "source": [
    "### Load libraries"
   ]
  },
  {
   "cell_type": "code",
   "execution_count": 44,
   "metadata": {},
   "outputs": [],
   "source": [
    "import pandas as pd\n",
    "import statsmodels.api as sm\n",
    "import statsmodels.formula.api as smf\n",
    "from statsmodels.multivariate.manova import MANOVA\n",
    "from sklearn.discriminant_analysis import LinearDiscriminantAnalysis as lda\n",
    "import seaborn as sns\n",
    "import matplotlib.pyplot as plt\n",
    "import researchpy as rp"
   ]
  },
  {
   "cell_type": "code",
   "execution_count": 45,
   "metadata": {},
   "outputs": [
    {
     "data": {
      "text/html": [
       "<div>\n",
       "<style scoped>\n",
       "    .dataframe tbody tr th:only-of-type {\n",
       "        vertical-align: middle;\n",
       "    }\n",
       "\n",
       "    .dataframe tbody tr th {\n",
       "        vertical-align: top;\n",
       "    }\n",
       "\n",
       "    .dataframe thead th {\n",
       "        text-align: right;\n",
       "    }\n",
       "</style>\n",
       "<table border=\"1\" class=\"dataframe\">\n",
       "  <thead>\n",
       "    <tr style=\"text-align: right;\">\n",
       "      <th></th>\n",
       "      <th>Location</th>\n",
       "      <th>Irrigation</th>\n",
       "      <th>Manure</th>\n",
       "      <th>Replication</th>\n",
       "      <th>PlantHeight</th>\n",
       "      <th>StemsPerPlant</th>\n",
       "      <th>StemDiameter</th>\n",
       "      <th>FreshWeight</th>\n",
       "      <th>StandingPlants</th>\n",
       "      <th>SurvivalRate</th>\n",
       "    </tr>\n",
       "  </thead>\n",
       "  <tbody>\n",
       "    <tr>\n",
       "      <th>0</th>\n",
       "      <td>Bajo</td>\n",
       "      <td>I1</td>\n",
       "      <td>M1</td>\n",
       "      <td>1</td>\n",
       "      <td>21.887500</td>\n",
       "      <td>7.625</td>\n",
       "      <td>7.855000</td>\n",
       "      <td>51.25</td>\n",
       "      <td>4.0</td>\n",
       "      <td>40.0</td>\n",
       "    </tr>\n",
       "    <tr>\n",
       "      <th>1</th>\n",
       "      <td>Bajo</td>\n",
       "      <td>I1</td>\n",
       "      <td>M2</td>\n",
       "      <td>1</td>\n",
       "      <td>28.500000</td>\n",
       "      <td>9.625</td>\n",
       "      <td>10.432500</td>\n",
       "      <td>81.75</td>\n",
       "      <td>4.0</td>\n",
       "      <td>40.0</td>\n",
       "    </tr>\n",
       "    <tr>\n",
       "      <th>2</th>\n",
       "      <td>Bajo</td>\n",
       "      <td>I1</td>\n",
       "      <td>M3</td>\n",
       "      <td>1</td>\n",
       "      <td>20.916667</td>\n",
       "      <td>6.000</td>\n",
       "      <td>6.233333</td>\n",
       "      <td>25.00</td>\n",
       "      <td>3.0</td>\n",
       "      <td>30.0</td>\n",
       "    </tr>\n",
       "    <tr>\n",
       "      <th>3</th>\n",
       "      <td>Bajo</td>\n",
       "      <td>I1</td>\n",
       "      <td>M4</td>\n",
       "      <td>1</td>\n",
       "      <td>39.850000</td>\n",
       "      <td>11.500</td>\n",
       "      <td>16.272000</td>\n",
       "      <td>90.60</td>\n",
       "      <td>10.0</td>\n",
       "      <td>100.0</td>\n",
       "    </tr>\n",
       "    <tr>\n",
       "      <th>4</th>\n",
       "      <td>Bajo</td>\n",
       "      <td>I2</td>\n",
       "      <td>M1</td>\n",
       "      <td>1</td>\n",
       "      <td>39.850000</td>\n",
       "      <td>11.500</td>\n",
       "      <td>18.272000</td>\n",
       "      <td>123.00</td>\n",
       "      <td>10.0</td>\n",
       "      <td>100.0</td>\n",
       "    </tr>\n",
       "  </tbody>\n",
       "</table>\n",
       "</div>"
      ],
      "text/plain": [
       "  Location Irrigation Manure  Replication  PlantHeight  StemsPerPlant  \\\n",
       "0     Bajo         I1     M1            1    21.887500          7.625   \n",
       "1     Bajo         I1     M2            1    28.500000          9.625   \n",
       "2     Bajo         I1     M3            1    20.916667          6.000   \n",
       "3     Bajo         I1     M4            1    39.850000         11.500   \n",
       "4     Bajo         I2     M1            1    39.850000         11.500   \n",
       "\n",
       "   StemDiameter  FreshWeight  StandingPlants  SurvivalRate  \n",
       "0      7.855000        51.25             4.0          40.0  \n",
       "1     10.432500        81.75             4.0          40.0  \n",
       "2      6.233333        25.00             3.0          30.0  \n",
       "3     16.272000        90.60            10.0         100.0  \n",
       "4     18.272000       123.00            10.0         100.0  "
      ]
     },
     "execution_count": 45,
     "metadata": {},
     "output_type": "execute_result"
    }
   ],
   "source": [
    "data = pd.read_excel('data.xlsx', sheet_name = 'combined')\n",
    "\n",
    "# Calculation of survival rate\n",
    "data['SurvivalRate'] = data['StandingPlants']/10*100\n",
    "data.head()"
   ]
  },
  {
   "cell_type": "code",
   "execution_count": 46,
   "metadata": {},
   "outputs": [],
   "source": [
    "# Fresh Yield Calculations (ton/acre)\n",
    "data['FreshPlot'] = data['FreshWeight'] * data['StandingPlants']\n",
    "data['FreshYield'] = (data['FreshPlot']/2*4047)/1000000"
   ]
  },
  {
   "cell_type": "code",
   "execution_count": 47,
   "metadata": {},
   "outputs": [
    {
     "data": {
      "text/html": [
       "<div>\n",
       "<style scoped>\n",
       "    .dataframe tbody tr th:only-of-type {\n",
       "        vertical-align: middle;\n",
       "    }\n",
       "\n",
       "    .dataframe tbody tr th {\n",
       "        vertical-align: top;\n",
       "    }\n",
       "\n",
       "    .dataframe thead th {\n",
       "        text-align: right;\n",
       "    }\n",
       "</style>\n",
       "<table border=\"1\" class=\"dataframe\">\n",
       "  <thead>\n",
       "    <tr style=\"text-align: right;\">\n",
       "      <th></th>\n",
       "      <th>Location</th>\n",
       "      <th>Irrigation</th>\n",
       "      <th>Manure</th>\n",
       "      <th>Replication</th>\n",
       "      <th>PlantHeight</th>\n",
       "      <th>StemsPerPlant</th>\n",
       "      <th>StemDiameter</th>\n",
       "      <th>FreshWeight</th>\n",
       "      <th>StandingPlants</th>\n",
       "      <th>SurvivalRate</th>\n",
       "      <th>FreshPlot</th>\n",
       "      <th>FreshYield</th>\n",
       "    </tr>\n",
       "  </thead>\n",
       "  <tbody>\n",
       "    <tr>\n",
       "      <th>0</th>\n",
       "      <td>Bajo</td>\n",
       "      <td>I1</td>\n",
       "      <td>M1</td>\n",
       "      <td>1</td>\n",
       "      <td>21.887500</td>\n",
       "      <td>7.625</td>\n",
       "      <td>7.855000</td>\n",
       "      <td>51.25</td>\n",
       "      <td>4.0</td>\n",
       "      <td>40.0</td>\n",
       "      <td>205.0</td>\n",
       "      <td>0.414818</td>\n",
       "    </tr>\n",
       "    <tr>\n",
       "      <th>1</th>\n",
       "      <td>Bajo</td>\n",
       "      <td>I1</td>\n",
       "      <td>M2</td>\n",
       "      <td>1</td>\n",
       "      <td>28.500000</td>\n",
       "      <td>9.625</td>\n",
       "      <td>10.432500</td>\n",
       "      <td>81.75</td>\n",
       "      <td>4.0</td>\n",
       "      <td>40.0</td>\n",
       "      <td>327.0</td>\n",
       "      <td>0.661685</td>\n",
       "    </tr>\n",
       "    <tr>\n",
       "      <th>2</th>\n",
       "      <td>Bajo</td>\n",
       "      <td>I1</td>\n",
       "      <td>M3</td>\n",
       "      <td>1</td>\n",
       "      <td>20.916667</td>\n",
       "      <td>6.000</td>\n",
       "      <td>6.233333</td>\n",
       "      <td>25.00</td>\n",
       "      <td>3.0</td>\n",
       "      <td>30.0</td>\n",
       "      <td>75.0</td>\n",
       "      <td>0.151762</td>\n",
       "    </tr>\n",
       "    <tr>\n",
       "      <th>3</th>\n",
       "      <td>Bajo</td>\n",
       "      <td>I1</td>\n",
       "      <td>M4</td>\n",
       "      <td>1</td>\n",
       "      <td>39.850000</td>\n",
       "      <td>11.500</td>\n",
       "      <td>16.272000</td>\n",
       "      <td>90.60</td>\n",
       "      <td>10.0</td>\n",
       "      <td>100.0</td>\n",
       "      <td>906.0</td>\n",
       "      <td>1.833291</td>\n",
       "    </tr>\n",
       "    <tr>\n",
       "      <th>4</th>\n",
       "      <td>Bajo</td>\n",
       "      <td>I2</td>\n",
       "      <td>M1</td>\n",
       "      <td>1</td>\n",
       "      <td>39.850000</td>\n",
       "      <td>11.500</td>\n",
       "      <td>18.272000</td>\n",
       "      <td>123.00</td>\n",
       "      <td>10.0</td>\n",
       "      <td>100.0</td>\n",
       "      <td>1230.0</td>\n",
       "      <td>2.488905</td>\n",
       "    </tr>\n",
       "  </tbody>\n",
       "</table>\n",
       "</div>"
      ],
      "text/plain": [
       "  Location Irrigation Manure  Replication  PlantHeight  StemsPerPlant  \\\n",
       "0     Bajo         I1     M1            1    21.887500          7.625   \n",
       "1     Bajo         I1     M2            1    28.500000          9.625   \n",
       "2     Bajo         I1     M3            1    20.916667          6.000   \n",
       "3     Bajo         I1     M4            1    39.850000         11.500   \n",
       "4     Bajo         I2     M1            1    39.850000         11.500   \n",
       "\n",
       "   StemDiameter  FreshWeight  StandingPlants  SurvivalRate  FreshPlot  \\\n",
       "0      7.855000        51.25             4.0          40.0      205.0   \n",
       "1     10.432500        81.75             4.0          40.0      327.0   \n",
       "2      6.233333        25.00             3.0          30.0       75.0   \n",
       "3     16.272000        90.60            10.0         100.0      906.0   \n",
       "4     18.272000       123.00            10.0         100.0     1230.0   \n",
       "\n",
       "   FreshYield  \n",
       "0    0.414818  \n",
       "1    0.661685  \n",
       "2    0.151762  \n",
       "3    1.833291  \n",
       "4    2.488905  "
      ]
     },
     "execution_count": 47,
     "metadata": {},
     "output_type": "execute_result"
    }
   ],
   "source": [
    "data.head()"
   ]
  },
  {
   "cell_type": "code",
   "execution_count": 48,
   "metadata": {},
   "outputs": [
    {
     "data": {
      "text/html": [
       "<div>\n",
       "<style scoped>\n",
       "    .dataframe tbody tr th:only-of-type {\n",
       "        vertical-align: middle;\n",
       "    }\n",
       "\n",
       "    .dataframe tbody tr th {\n",
       "        vertical-align: top;\n",
       "    }\n",
       "\n",
       "    .dataframe thead th {\n",
       "        text-align: right;\n",
       "    }\n",
       "</style>\n",
       "<table border=\"1\" class=\"dataframe\">\n",
       "  <thead>\n",
       "    <tr style=\"text-align: right;\">\n",
       "      <th></th>\n",
       "      <th>Replication</th>\n",
       "      <th>PlantHeight</th>\n",
       "      <th>StemsPerPlant</th>\n",
       "      <th>StemDiameter</th>\n",
       "      <th>FreshWeight</th>\n",
       "      <th>StandingPlants</th>\n",
       "      <th>SurvivalRate</th>\n",
       "      <th>FreshPlot</th>\n",
       "      <th>FreshYield</th>\n",
       "    </tr>\n",
       "  </thead>\n",
       "  <tbody>\n",
       "    <tr>\n",
       "      <th>count</th>\n",
       "      <td>144.000000</td>\n",
       "      <td>144.000000</td>\n",
       "      <td>144.000000</td>\n",
       "      <td>144.000000</td>\n",
       "      <td>144.000000</td>\n",
       "      <td>144.000000</td>\n",
       "      <td>144.000000</td>\n",
       "      <td>144.000000</td>\n",
       "      <td>144.000000</td>\n",
       "    </tr>\n",
       "    <tr>\n",
       "      <th>mean</th>\n",
       "      <td>2.000000</td>\n",
       "      <td>46.388899</td>\n",
       "      <td>8.823415</td>\n",
       "      <td>10.660878</td>\n",
       "      <td>90.517863</td>\n",
       "      <td>6.516204</td>\n",
       "      <td>65.162037</td>\n",
       "      <td>635.175154</td>\n",
       "      <td>1.285277</td>\n",
       "    </tr>\n",
       "    <tr>\n",
       "      <th>std</th>\n",
       "      <td>0.819346</td>\n",
       "      <td>17.970668</td>\n",
       "      <td>2.634764</td>\n",
       "      <td>3.699047</td>\n",
       "      <td>67.872401</td>\n",
       "      <td>3.089403</td>\n",
       "      <td>30.894034</td>\n",
       "      <td>657.692144</td>\n",
       "      <td>1.330840</td>\n",
       "    </tr>\n",
       "    <tr>\n",
       "      <th>min</th>\n",
       "      <td>1.000000</td>\n",
       "      <td>0.000000</td>\n",
       "      <td>0.000000</td>\n",
       "      <td>0.000000</td>\n",
       "      <td>0.000000</td>\n",
       "      <td>1.000000</td>\n",
       "      <td>10.000000</td>\n",
       "      <td>0.000000</td>\n",
       "      <td>0.000000</td>\n",
       "    </tr>\n",
       "    <tr>\n",
       "      <th>25%</th>\n",
       "      <td>1.000000</td>\n",
       "      <td>32.755000</td>\n",
       "      <td>7.000000</td>\n",
       "      <td>8.611000</td>\n",
       "      <td>40.100000</td>\n",
       "      <td>4.000000</td>\n",
       "      <td>40.000000</td>\n",
       "      <td>203.200000</td>\n",
       "      <td>0.411175</td>\n",
       "    </tr>\n",
       "    <tr>\n",
       "      <th>50%</th>\n",
       "      <td>2.000000</td>\n",
       "      <td>43.900000</td>\n",
       "      <td>8.400000</td>\n",
       "      <td>10.325000</td>\n",
       "      <td>75.125000</td>\n",
       "      <td>7.000000</td>\n",
       "      <td>70.000000</td>\n",
       "      <td>346.400000</td>\n",
       "      <td>0.700940</td>\n",
       "    </tr>\n",
       "    <tr>\n",
       "      <th>75%</th>\n",
       "      <td>3.000000</td>\n",
       "      <td>57.466667</td>\n",
       "      <td>10.381250</td>\n",
       "      <td>13.379500</td>\n",
       "      <td>122.812500</td>\n",
       "      <td>10.000000</td>\n",
       "      <td>100.000000</td>\n",
       "      <td>915.400000</td>\n",
       "      <td>1.852312</td>\n",
       "    </tr>\n",
       "    <tr>\n",
       "      <th>max</th>\n",
       "      <td>3.000000</td>\n",
       "      <td>101.400000</td>\n",
       "      <td>20.400000</td>\n",
       "      <td>23.580000</td>\n",
       "      <td>336.600000</td>\n",
       "      <td>10.000000</td>\n",
       "      <td>100.000000</td>\n",
       "      <td>3366.000000</td>\n",
       "      <td>6.811101</td>\n",
       "    </tr>\n",
       "  </tbody>\n",
       "</table>\n",
       "</div>"
      ],
      "text/plain": [
       "       Replication  PlantHeight  StemsPerPlant  StemDiameter  FreshWeight  \\\n",
       "count   144.000000   144.000000     144.000000    144.000000   144.000000   \n",
       "mean      2.000000    46.388899       8.823415     10.660878    90.517863   \n",
       "std       0.819346    17.970668       2.634764      3.699047    67.872401   \n",
       "min       1.000000     0.000000       0.000000      0.000000     0.000000   \n",
       "25%       1.000000    32.755000       7.000000      8.611000    40.100000   \n",
       "50%       2.000000    43.900000       8.400000     10.325000    75.125000   \n",
       "75%       3.000000    57.466667      10.381250     13.379500   122.812500   \n",
       "max       3.000000   101.400000      20.400000     23.580000   336.600000   \n",
       "\n",
       "       StandingPlants  SurvivalRate    FreshPlot  FreshYield  \n",
       "count      144.000000    144.000000   144.000000  144.000000  \n",
       "mean         6.516204     65.162037   635.175154    1.285277  \n",
       "std          3.089403     30.894034   657.692144    1.330840  \n",
       "min          1.000000     10.000000     0.000000    0.000000  \n",
       "25%          4.000000     40.000000   203.200000    0.411175  \n",
       "50%          7.000000     70.000000   346.400000    0.700940  \n",
       "75%         10.000000    100.000000   915.400000    1.852312  \n",
       "max         10.000000    100.000000  3366.000000    6.811101  "
      ]
     },
     "execution_count": 48,
     "metadata": {},
     "output_type": "execute_result"
    }
   ],
   "source": [
    "#Descriptive statistics of the whole dataset\n",
    "data.describe()"
   ]
  },
  {
   "cell_type": "code",
   "execution_count": 49,
   "metadata": {},
   "outputs": [
    {
     "data": {
      "text/html": [
       "<div>\n",
       "<style scoped>\n",
       "    .dataframe tbody tr th:only-of-type {\n",
       "        vertical-align: middle;\n",
       "    }\n",
       "\n",
       "    .dataframe tbody tr th {\n",
       "        vertical-align: top;\n",
       "    }\n",
       "\n",
       "    .dataframe thead th {\n",
       "        text-align: right;\n",
       "    }\n",
       "</style>\n",
       "<table border=\"1\" class=\"dataframe\">\n",
       "  <thead>\n",
       "    <tr style=\"text-align: right;\">\n",
       "      <th></th>\n",
       "      <th>Replication</th>\n",
       "      <th>PlantHeight</th>\n",
       "      <th>StemsPerPlant</th>\n",
       "      <th>StemDiameter</th>\n",
       "      <th>FreshWeight</th>\n",
       "      <th>StandingPlants</th>\n",
       "      <th>SurvivalRate</th>\n",
       "      <th>FreshPlot</th>\n",
       "      <th>FreshYield</th>\n",
       "    </tr>\n",
       "    <tr>\n",
       "      <th>Location</th>\n",
       "      <th></th>\n",
       "      <th></th>\n",
       "      <th></th>\n",
       "      <th></th>\n",
       "      <th></th>\n",
       "      <th></th>\n",
       "      <th></th>\n",
       "      <th></th>\n",
       "      <th></th>\n",
       "    </tr>\n",
       "  </thead>\n",
       "  <tbody>\n",
       "    <tr>\n",
       "      <th>Bajo</th>\n",
       "      <td>2.0</td>\n",
       "      <td>32.926488</td>\n",
       "      <td>10.737954</td>\n",
       "      <td>12.421478</td>\n",
       "      <td>116.333102</td>\n",
       "      <td>5.715278</td>\n",
       "      <td>57.152778</td>\n",
       "      <td>697.712963</td>\n",
       "      <td>1.411822</td>\n",
       "    </tr>\n",
       "    <tr>\n",
       "      <th>Wengkhar</th>\n",
       "      <td>2.0</td>\n",
       "      <td>56.001840</td>\n",
       "      <td>8.429514</td>\n",
       "      <td>10.872240</td>\n",
       "      <td>117.393403</td>\n",
       "      <td>7.270833</td>\n",
       "      <td>72.708333</td>\n",
       "      <td>949.187500</td>\n",
       "      <td>1.920681</td>\n",
       "    </tr>\n",
       "    <tr>\n",
       "      <th>Yusipang</th>\n",
       "      <td>2.0</td>\n",
       "      <td>50.238368</td>\n",
       "      <td>7.302778</td>\n",
       "      <td>8.688917</td>\n",
       "      <td>37.827083</td>\n",
       "      <td>6.562500</td>\n",
       "      <td>65.625000</td>\n",
       "      <td>258.625000</td>\n",
       "      <td>0.523328</td>\n",
       "    </tr>\n",
       "  </tbody>\n",
       "</table>\n",
       "</div>"
      ],
      "text/plain": [
       "          Replication  PlantHeight  StemsPerPlant  StemDiameter  FreshWeight  \\\n",
       "Location                                                                       \n",
       "Bajo              2.0    32.926488      10.737954     12.421478   116.333102   \n",
       "Wengkhar          2.0    56.001840       8.429514     10.872240   117.393403   \n",
       "Yusipang          2.0    50.238368       7.302778      8.688917    37.827083   \n",
       "\n",
       "          StandingPlants  SurvivalRate   FreshPlot  FreshYield  \n",
       "Location                                                        \n",
       "Bajo            5.715278     57.152778  697.712963    1.411822  \n",
       "Wengkhar        7.270833     72.708333  949.187500    1.920681  \n",
       "Yusipang        6.562500     65.625000  258.625000    0.523328  "
      ]
     },
     "execution_count": 49,
     "metadata": {},
     "output_type": "execute_result"
    }
   ],
   "source": [
    "## Mean of variables between loactions/stuidy sites\n",
    "data.groupby(['Location']).mean()"
   ]
  },
  {
   "cell_type": "code",
   "execution_count": 50,
   "metadata": {},
   "outputs": [
    {
     "name": "stdout",
     "output_type": "stream",
     "text": [
      "                   Multivariate linear model\n",
      "===============================================================\n",
      "                                                               \n",
      "---------------------------------------------------------------\n",
      "       Intercept         Value  Num DF  Den DF  F Value  Pr > F\n",
      "---------------------------------------------------------------\n",
      "          Wilks' lambda  0.0815 4.0000 138.0000 389.0531 0.0000\n",
      "         Pillai's trace  0.9185 4.0000 138.0000 389.0531 0.0000\n",
      " Hotelling-Lawley trace 11.2769 4.0000 138.0000 389.0531 0.0000\n",
      "    Roy's greatest root 11.2769 4.0000 138.0000 389.0531 0.0000\n",
      "---------------------------------------------------------------\n",
      "                                                               \n",
      "---------------------------------------------------------------\n",
      "         Location        Value  Num DF  Den DF  F Value  Pr > F\n",
      "---------------------------------------------------------------\n",
      "           Wilks' lambda 0.1842 8.0000 276.0000  45.8795 0.0000\n",
      "          Pillai's trace 0.9936 8.0000 278.0000  34.3097 0.0000\n",
      "  Hotelling-Lawley trace 3.4628 8.0000 194.8316  59.4774 0.0000\n",
      "     Roy's greatest root 3.1570 4.0000 139.0000 109.7044 0.0000\n",
      "===============================================================\n",
      "\n"
     ]
    }
   ],
   "source": [
    "# Multivariate Analysis of Variance\n",
    "mnov = MANOVA.from_formula('PlantHeight + StemDiameter + StemsPerPlant + FreshYield ~ Location', data)\n",
    "print(mnov.mv_test())"
   ]
  },
  {
   "cell_type": "code",
   "execution_count": 51,
   "metadata": {},
   "outputs": [
    {
     "data": {
      "text/plain": [
       "array([0.33333333, 0.33333333, 0.33333333])"
      ]
     },
     "execution_count": 51,
     "metadata": {},
     "output_type": "execute_result"
    }
   ],
   "source": [
    "# POST HOC ANALYSIS\n",
    "X = data[['PlantHeight', 'StemDiameter', 'StemsPerPlant', 'FreshYield']]\n",
    "y = data['Location']\n",
    "\n",
    "post_hoc = lda().fit(X = X, y = y)\n",
    "\n",
    "# Get Prior Probabilities of groups\n",
    "post_hoc.priors_"
   ]
  },
  {
   "cell_type": "code",
   "execution_count": 52,
   "metadata": {},
   "outputs": [
    {
     "data": {
      "text/plain": [
       "array([[32.92648843, 12.42147801, 10.7379537 ,  1.41182218],\n",
       "       [56.00184028, 10.87223958,  8.42951389,  1.92068091],\n",
       "       [50.23836806,  8.68891667,  7.30277778,  0.52332769]])"
      ]
     },
     "execution_count": 52,
     "metadata": {},
     "output_type": "execute_result"
    }
   ],
   "source": [
    "# Get group means\n",
    "post_hoc.means_"
   ]
  },
  {
   "cell_type": "code",
   "execution_count": 53,
   "metadata": {},
   "outputs": [
    {
     "data": {
      "text/plain": [
       "array([[-0.10657921,  0.02145901],\n",
       "       [ 0.12867055, -0.10322389],\n",
       "       [ 0.39974655,  0.37563641],\n",
       "       [ 0.31065495, -1.18143963]])"
      ]
     },
     "execution_count": 53,
     "metadata": {},
     "output_type": "execute_result"
    }
   ],
   "source": [
    "# Get coefficient of Linear Discriminants\n",
    "post_hoc.scalings_"
   ]
  },
  {
   "cell_type": "code",
   "execution_count": 54,
   "metadata": {},
   "outputs": [
    {
     "data": {
      "text/plain": [
       "array([0.91168937, 0.08831063])"
      ]
     },
     "execution_count": 54,
     "metadata": {},
     "output_type": "execute_result"
    }
   ],
   "source": [
    "# Get proportion of trace (Variance explained by each of the selected components)\n",
    "post_hoc.explained_variance_ratio_"
   ]
  },
  {
   "cell_type": "code",
   "execution_count": 55,
   "metadata": {},
   "outputs": [
    {
     "data": {
      "image/png": "[encoded data removed]",
      "text/plain": [
       "<Figure size 432x288 with 1 Axes>"
      ]
     },
     "metadata": {
      "needs_background": "light"
     },
     "output_type": "display_data"
    }
   ],
   "source": [
    "X_new = pd.DataFrame(lda().fit(X=X, y=y).transform(X), columns=['lda1', 'lda2'])\n",
    "X_new['location'] = data['Location']\n",
    "sns.scatterplot(data = X_new, x = 'lda1', y = 'lda2', hue = data.Location.tolist())\n",
    "plt.show()"
   ]
  },
  {
   "cell_type": "code",
   "execution_count": 58,
   "metadata": {},
   "outputs": [
    {
     "data": {
      "application/vnd.plotly.v1+json": {
       "config": {
        "plotlyServerURL": "https://plot.ly"
       },
       "data": [
        {
         "hovertemplate": "color=Bajo<br>lda1=%{x}<br>lda2=%{y}<extra></extra>",
         "legendgroup": "Bajo",
         "marker": {
          "color": "#636efa",
          "symbol": "circle"
         },
         "mode": "markers",
         "name": "Bajo",
         "orientation": "v",
         "showlegend": true,
         "type": "scatter",
         "x": [
          1.500830899579872,
          2.003907809575271,
          0.6643333167520561,
          2.659095657428124,
          3.1201064942647614,
          4.089446055161188,
          1.960514238199576,
          1.8978450942573253,
          1.8927710383302314,
          1.5829118890548046,
          2.660819400087671,
          1.501549775701623,
          1.038762217697672,
          1.3824330197041668,
          1.366039722212875,
          1.6084025398684225,
          1.7718099098801772,
          1.1341003605918076,
          1.265379909166523,
          2.86817507763384,
          3.405596220792064,
          2.541573720992324,
          3.0949517409562093,
          3.566236008205858,
          2.0896295741525326,
          1.703836939301105,
          2.8564911912319717,
          5.282548415579938,
          2.1756997009587535,
          2.938713551812259,
          2.1930923576854555,
          2.5345835025557126,
          2.758974413215652,
          2.5596954481932155,
          2.2792856801022006,
          2.139465552209173,
          1.033702478235408,
          2.409877289831229,
          3.3093192791479273,
          2.4375563207618036,
          4.590613079540614,
          3.672546803100688,
          4.100647260628549,
          7.289519024693684,
          1.4215447210522154,
          1.2993248649745692,
          1.8508617555605373,
          2.8625175849991655
         ],
         "xaxis": "x",
         "y": [
          0.34208471984450517,
          0.6775372261489534,
          0.18902077450526633,
          -0.36154298189231726,
          -1.3425591339253975,
          -2.5269126245935065,
          0.7146313396370692,
          -1.70643100138903,
          0.6957053277632084,
          0.9262167092723214,
          0.1056891588440993,
          0.8005269375171513,
          -0.37507628313137675,
          1.7644901053564468,
          0.8311298790540891,
          1.0592117700298704,
          0.8685898105406188,
          0.9602103476778433,
          0.5270752786354165,
          1.3001726804825027,
          -0.5692141984047906,
          -1.0036512139110565,
          -0.7646017864752415,
          -1.2944869521106213,
          0.7050252468545847,
          0.92565731199809,
          -0.9936389170529079,
          -2.0608996530949937,
          0.8087372416420808,
          -0.17091368472274582,
          1.259105789863547,
          -0.5083489491689852,
          0.5512569699269397,
          -0.5824535781626516,
          0.9409603040354864,
          0.81139660147425,
          -0.1977282404439199,
          -0.4666622992966215,
          0.004025462636927046,
          -0.8317235184246886,
          2.0497725795004094,
          2.5182669933084583,
          -1.4510248682345959,
          -2.644511776896345,
          -0.0466439079517178,
          0.397980551538168,
          0.596722207847925,
          1.3216884683320438
         ],
         "yaxis": "y"
        },
        {
         "hovertemplate": "color=Yusipang<br>lda1=%{x}<br>lda2=%{y}<extra></extra>",
         "legendgroup": "Yusipang",
         "marker": {
          "color": "#EF553B",
          "symbol": "circle"
         },
         "mode": "markers",
         "name": "Yusipang",
         "orientation": "v",
         "showlegend": true,
         "type": "scatter",
         "x": [
          -0.5446003110585687,
          -0.6442758837102976,
          -1.455192558775257,
          -0.8705386617054962,
          -1.4272852341556204,
          -2.2226716179819324,
          -1.2961694548635072,
          -1.239899679236042,
          -2.962462038241049,
          -1.9228730159692786,
          -2.6694409493563485,
          -1.467363670163132,
          -1.0009907323925904,
          -1.1464864856388035,
          -2.0595659324016498,
          -1.0026856821353718,
          -0.8256786755112381,
          -1.2839645193992006,
          -1.5758700895864366,
          -1.6928529817328517,
          -1.6061165570254574,
          -1.352778587844588,
          -3.151449442939899,
          -2.927727173961987,
          -2.7882175985882984,
          -0.49318348456316785,
          -2.1108293544783026,
          -1.465266119843505,
          -0.8357726117083972,
          -1.9114125530795876,
          -2.1532116075515417,
          -1.3500802126601361,
          -1.6121856886823498,
          -2.008833464333758,
          -0.9902162685218671,
          -0.9536318244042116,
          -2.1975187027694596,
          -0.6984228722382008,
          -0.922734751283679,
          -2.555020687354239,
          -1.4461772885206017,
          -1.7308360314057714,
          -1.6037786058455659,
          -1.7895151353853676,
          -0.5824813458780568,
          -1.0900472198911242,
          -0.7726975861556119,
          -0.0008079722613218987
         ],
         "xaxis": "x",
         "y": [
          1.1220939528422793,
          0.6468085714600083,
          0.9613621260979308,
          0.6488717310200314,
          0.6230625395731799,
          1.0137587814848248,
          -0.4017469687342956,
          0.43255615508336326,
          0.7006518949696017,
          0.28186941052882125,
          0.49469397419926264,
          0.3662598058764025,
          0.4483845754654735,
          -0.6018054979023578,
          0.5216457338134293,
          0.24574575994051884,
          0.35490038471756247,
          0.5039096228760402,
          0.428547135528079,
          0.11385118723720322,
          0.6614327074107506,
          0.37540509932962896,
          0.7937625245715636,
          0.5234715625548838,
          0.7807671582526523,
          0.787680465812296,
          0.6498082306256293,
          0.777390506006379,
          0.39582992958108476,
          1.2896656145984584,
          1.111580245631825,
          0.7869762357556694,
          0.8369668596356894,
          0.7455759397230903,
          0.44134854237245297,
          0.6345521081534703,
          0.615780806158003,
          0.5052406844382573,
          0.6719911380829601,
          0.7781133775643363,
          0.9710997190416519,
          1.256995513801437,
          1.1105002415946506,
          0.7652976079998102,
          0.39563031422928313,
          0.9205757843441147,
          0.021846403144254067,
          1.016475356388321
         ],
         "yaxis": "y"
        },
        {
         "hovertemplate": "color=Wengkhar<br>lda1=%{x}<br>lda2=%{y}<extra></extra>",
         "legendgroup": "Wengkhar",
         "marker": {
          "color": "#00cc96",
          "symbol": "circle"
         },
         "mode": "markers",
         "name": "Wengkhar",
         "orientation": "v",
         "showlegend": true,
         "type": "scatter",
         "x": [
          1.164349181292588,
          -0.9836302894635416,
          -1.6206515066424876,
          -0.8210272637670422,
          0.8147220586056078,
          -0.7924063825453722,
          -0.28250460866478344,
          -0.146788473842405,
          -1.2799343625845951,
          -0.8626672899511005,
          -0.07353892191940403,
          0.2155433372406283,
          -0.8658889316557025,
          -2.287664877435936,
          -0.3540564914725266,
          -1.302851841744554,
          -1.7343347488356389,
          -0.36423029553441266,
          -2.0432362874033596,
          -1.759692384297663,
          -0.1394617125881863,
          -0.3535141114693586,
          -0.15113417180631306,
          -1.7541587541709462,
          -0.8106129368266903,
          -1.3502853004893636,
          -2.0323627992902975,
          -3.3352709441553143,
          -1.2299343354129457,
          -2.3505029105679385,
          -0.13423119606024458,
          -4.1573834343869684,
          -0.7099173856188202,
          -1.204181543138604,
          -0.3625624750865955,
          -0.04215461754523231,
          -1.6050756966223898,
          -0.1463399039279073,
          -2.589158132482178,
          -1.0179963486953438,
          -2.023202367215393,
          -1.292416155962699,
          -0.13438594503379492,
          -0.822599521561477,
          -0.294054008805954,
          -0.16981060927283348,
          0.04939700086176446,
          -0.41201928447434333
         ],
         "xaxis": "x",
         "y": [
          0.8649537731916903,
          -2.3041023444001874,
          0.038399788898261455,
          -1.3470464542475458,
          -0.4956226871880274,
          0.6071237645368284,
          0.23581163708147534,
          0.19437082207094403,
          -2.55383341693817,
          0.9736324980526525,
          -0.22880893282750137,
          0.2011389079276299,
          -0.8422290340952455,
          -3.142293491804084,
          -1.6909215590227658,
          0.4361385836051706,
          -1.621435090940622,
          -1.346996795662852,
          -1.9029184351151593,
          -0.538381739451583,
          0.15012605418834185,
          0.23869389556739495,
          -0.36216200531851994,
          -1.279254198613383,
          -1.7231138425717905,
          -0.3415348999128551,
          -4.831967212148587,
          -2.6917815106277194,
          -2.3191770370149847,
          -1.9850857002840212,
          -2.1255454853633755,
          -2.5393314209356164,
          -0.6232621822194174,
          -0.7194649149908563,
          0.787717700592111,
          0.8998877141034394,
          -0.31404238225835623,
          -0.14203129106110812,
          -0.6780608106643485,
          0.6227699736468646,
          0.5603727193929626,
          -0.9795410225365977,
          0.20429798312608727,
          -0.037711306951726864,
          -0.09066627106954495,
          -0.09063916114794399,
          0.36475334140699256,
          0.22772970213107957
         ],
         "yaxis": "y"
        }
       ],
       "layout": {
        "legend": {
         "title": {
          "text": "color"
         },
         "tracegroupgap": 0
        },
        "margin": {
         "t": 60
        },
        "template": {
         "data": {
          "bar": [
           {
            "error_x": {
             "color": "#2a3f5f"
            },
            "error_y": {
             "color": "#2a3f5f"
            },
            "marker": {
             "line": {
              "color": "#E5ECF6",
              "width": 0.5
             },
             "pattern": {
              "fillmode": "overlay",
              "size": 10,
              "solidity": 0.2
             }
            },
            "type": "bar"
           }
          ],
          "barpolar": [
           {
            "marker": {
             "line": {
              "color": "#E5ECF6",
              "width": 0.5
             },
             "pattern": {
              "fillmode": "overlay",
              "size": 10,
              "solidity": 0.2
             }
            },
            "type": "barpolar"
           }
          ],
          "carpet": [
           {
            "aaxis": {
             "endlinecolor": "#2a3f5f",
             "gridcolor": "white",
             "linecolor": "white",
             "minorgridcolor": "white",
             "startlinecolor": "#2a3f5f"
            },
            "baxis": {
             "endlinecolor": "#2a3f5f",
             "gridcolor": "white",
             "linecolor": "white",
             "minorgridcolor": "white",
             "startlinecolor": "#2a3f5f"
            },
            "type": "carpet"
           }
          ],
          "choropleth": [
           {
            "colorbar": {
             "outlinewidth": 0,
             "ticks": ""
            },
            "type": "choropleth"
           }
          ],
          "contour": [
           {
            "colorbar": {
             "outlinewidth": 0,
             "ticks": ""
            },
            "colorscale": [
             [
              0,
              "#0d0887"
             ],
             [
              0.1111111111111111,
              "#46039f"
             ],
             [
              0.2222222222222222,
              "#7201a8"
             ],
             [
              0.3333333333333333,
              "#9c179e"
             ],
             [
              0.4444444444444444,
              "#bd3786"
             ],
             [
              0.5555555555555556,
              "#d8576b"
             ],
             [
              0.6666666666666666,
              "#ed7953"
             ],
             [
              0.7777777777777778,
              "#fb9f3a"
             ],
             [
              0.8888888888888888,
              "#fdca26"
             ],
             [
              1,
              "#f0f921"
             ]
            ],
            "type": "contour"
           }
          ],
          "contourcarpet": [
           {
            "colorbar": {
             "outlinewidth": 0,
             "ticks": ""
            },
            "type": "contourcarpet"
           }
          ],
          "heatmap": [
           {
            "colorbar": {
             "outlinewidth": 0,
             "ticks": ""
            },
            "colorscale": [
             [
              0,
              "#0d0887"
             ],
             [
              0.1111111111111111,
              "#46039f"
             ],
             [
              0.2222222222222222,
              "#7201a8"
             ],
             [
              0.3333333333333333,
              "#9c179e"
             ],
             [
              0.4444444444444444,
              "#bd3786"
             ],
             [
              0.5555555555555556,
              "#d8576b"
             ],
             [
              0.6666666666666666,
              "#ed7953"
             ],
             [
              0.7777777777777778,
              "#fb9f3a"
             ],
             [
              0.8888888888888888,
              "#fdca26"
             ],
             [
              1,
              "#f0f921"
             ]
            ],
            "type": "heatmap"
           }
          ],
          "heatmapgl": [
           {
            "colorbar": {
             "outlinewidth": 0,
             "ticks": ""
            },
            "colorscale": [
             [
              0,
              "#0d0887"
             ],
             [
              0.1111111111111111,
              "#46039f"
             ],
             [
              0.2222222222222222,
              "#7201a8"
             ],
             [
              0.3333333333333333,
              "#9c179e"
             ],
             [
              0.4444444444444444,
              "#bd3786"
             ],
             [
              0.5555555555555556,
              "#d8576b"
             ],
             [
              0.6666666666666666,
              "#ed7953"
             ],
             [
              0.7777777777777778,
              "#fb9f3a"
             ],
             [
              0.8888888888888888,
              "#fdca26"
             ],
             [
              1,
              "#f0f921"
             ]
            ],
            "type": "heatmapgl"
           }
          ],
          "histogram": [
           {
            "marker": {
             "pattern": {
              "fillmode": "overlay",
              "size": 10,
              "solidity": 0.2
             }
            },
            "type": "histogram"
           }
          ],
          "histogram2d": [
           {
            "colorbar": {
             "outlinewidth": 0,
             "ticks": ""
            },
            "colorscale": [
             [
              0,
              "#0d0887"
             ],
             [
              0.1111111111111111,
              "#46039f"
             ],
             [
              0.2222222222222222,
              "#7201a8"
             ],
             [
              0.3333333333333333,
              "#9c179e"
             ],
             [
              0.4444444444444444,
              "#bd3786"
             ],
             [
              0.5555555555555556,
              "#d8576b"
             ],
             [
              0.6666666666666666,
              "#ed7953"
             ],
             [
              0.7777777777777778,
              "#fb9f3a"
             ],
             [
              0.8888888888888888,
              "#fdca26"
             ],
             [
              1,
              "#f0f921"
             ]
            ],
            "type": "histogram2d"
           }
          ],
          "histogram2dcontour": [
           {
            "colorbar": {
             "outlinewidth": 0,
             "ticks": ""
            },
            "colorscale": [
             [
              0,
              "#0d0887"
             ],
             [
              0.1111111111111111,
              "#46039f"
             ],
             [
              0.2222222222222222,
              "#7201a8"
             ],
             [
              0.3333333333333333,
              "#9c179e"
             ],
             [
              0.4444444444444444,
              "#bd3786"
             ],
             [
              0.5555555555555556,
              "#d8576b"
             ],
             [
              0.6666666666666666,
              "#ed7953"
             ],
             [
              0.7777777777777778,
              "#fb9f3a"
             ],
             [
              0.8888888888888888,
              "#fdca26"
             ],
             [
              1,
              "#f0f921"
             ]
            ],
            "type": "histogram2dcontour"
           }
          ],
          "mesh3d": [
           {
            "colorbar": {
             "outlinewidth": 0,
             "ticks": ""
            },
            "type": "mesh3d"
           }
          ],
          "parcoords": [
           {
            "line": {
             "colorbar": {
              "outlinewidth": 0,
              "ticks": ""
             }
            },
            "type": "parcoords"
           }
          ],
          "pie": [
           {
            "automargin": true,
            "type": "pie"
           }
          ],
          "scatter": [
           {
            "marker": {
             "colorbar": {
              "outlinewidth": 0,
              "ticks": ""
             }
            },
            "type": "scatter"
           }
          ],
          "scatter3d": [
           {
            "line": {
             "colorbar": {
              "outlinewidth": 0,
              "ticks": ""
             }
            },
            "marker": {
             "colorbar": {
              "outlinewidth": 0,
              "ticks": ""
             }
            },
            "type": "scatter3d"
           }
          ],
          "scattercarpet": [
           {
            "marker": {
             "colorbar": {
              "outlinewidth": 0,
              "ticks": ""
             }
            },
            "type": "scattercarpet"
           }
          ],
          "scattergeo": [
           {
            "marker": {
             "colorbar": {
              "outlinewidth": 0,
              "ticks": ""
             }
            },
            "type": "scattergeo"
           }
          ],
          "scattergl": [
           {
            "marker": {
             "colorbar": {
              "outlinewidth": 0,
              "ticks": ""
             }
            },
            "type": "scattergl"
           }
          ],
          "scattermapbox": [
           {
            "marker": {
             "colorbar": {
              "outlinewidth": 0,
              "ticks": ""
             }
            },
            "type": "scattermapbox"
           }
          ],
          "scatterpolar": [
           {
            "marker": {
             "colorbar": {
              "outlinewidth": 0,
              "ticks": ""
             }
            },
            "type": "scatterpolar"
           }
          ],
          "scatterpolargl": [
           {
            "marker": {
             "colorbar": {
              "outlinewidth": 0,
              "ticks": ""
             }
            },
            "type": "scatterpolargl"
           }
          ],
          "scatterternary": [
           {
            "marker": {
             "colorbar": {
              "outlinewidth": 0,
              "ticks": ""
             }
            },
            "type": "scatterternary"
           }
          ],
          "surface": [
           {
            "colorbar": {
             "outlinewidth": 0,
             "ticks": ""
            },
            "colorscale": [
             [
              0,
              "#0d0887"
             ],
             [
              0.1111111111111111,
              "#46039f"
             ],
             [
              0.2222222222222222,
              "#7201a8"
             ],
             [
              0.3333333333333333,
              "#9c179e"
             ],
             [
              0.4444444444444444,
              "#bd3786"
             ],
             [
              0.5555555555555556,
              "#d8576b"
             ],
             [
              0.6666666666666666,
              "#ed7953"
             ],
             [
              0.7777777777777778,
              "#fb9f3a"
             ],
             [
              0.8888888888888888,
              "#fdca26"
             ],
             [
              1,
              "#f0f921"
             ]
            ],
            "type": "surface"
           }
          ],
          "table": [
           {
            "cells": {
             "fill": {
              "color": "#EBF0F8"
             },
             "line": {
              "color": "white"
             }
            },
            "header": {
             "fill": {
              "color": "#C8D4E3"
             },
             "line": {
              "color": "white"
             }
            },
            "type": "table"
           }
          ]
         },
         "layout": {
          "annotationdefaults": {
           "arrowcolor": "#2a3f5f",
           "arrowhead": 0,
           "arrowwidth": 1
          },
          "autotypenumbers": "strict",
          "coloraxis": {
           "colorbar": {
            "outlinewidth": 0,
            "ticks": ""
           }
          },
          "colorscale": {
           "diverging": [
            [
             0,
             "#8e0152"
            ],
            [
             0.1,
             "#c51b7d"
            ],
            [
             0.2,
             "#de77ae"
            ],
            [
             0.3,
             "#f1b6da"
            ],
            [
             0.4,
             "#fde0ef"
            ],
            [
             0.5,
             "#f7f7f7"
            ],
            [
             0.6,
             "#e6f5d0"
            ],
            [
             0.7,
             "#b8e186"
            ],
            [
             0.8,
             "#7fbc41"
            ],
            [
             0.9,
             "#4d9221"
            ],
            [
             1,
             "#276419"
            ]
           ],
           "sequential": [
            [
             0,
             "#0d0887"
            ],
            [
             0.1111111111111111,
             "#46039f"
            ],
            [
             0.2222222222222222,
             "#7201a8"
            ],
            [
             0.3333333333333333,
             "#9c179e"
            ],
            [
             0.4444444444444444,
             "#bd3786"
            ],
            [
             0.5555555555555556,
             "#d8576b"
            ],
            [
             0.6666666666666666,
             "#ed7953"
            ],
            [
             0.7777777777777778,
             "#fb9f3a"
            ],
            [
             0.8888888888888888,
             "#fdca26"
            ],
            [
             1,
             "#f0f921"
            ]
           ],
           "sequentialminus": [
            [
             0,
             "#0d0887"
            ],
            [
             0.1111111111111111,
             "#46039f"
            ],
            [
             0.2222222222222222,
             "#7201a8"
            ],
            [
             0.3333333333333333,
             "#9c179e"
            ],
            [
             0.4444444444444444,
             "#bd3786"
            ],
            [
             0.5555555555555556,
             "#d8576b"
            ],
            [
             0.6666666666666666,
             "#ed7953"
            ],
            [
             0.7777777777777778,
             "#fb9f3a"
            ],
            [
             0.8888888888888888,
             "#fdca26"
            ],
            [
             1,
             "#f0f921"
            ]
           ]
          },
          "colorway": [
           "#636efa",
           "#EF553B",
           "#00cc96",
           "#ab63fa",
           "#FFA15A",
           "#19d3f3",
           "#FF6692",
           "#B6E880",
           "#FF97FF",
           "#FECB52"
          ],
          "font": {
           "color": "#2a3f5f"
          },
          "geo": {
           "bgcolor": "white",
           "lakecolor": "white",
           "landcolor": "#E5ECF6",
           "showlakes": true,
           "showland": true,
           "subunitcolor": "white"
          },
          "hoverlabel": {
           "align": "left"
          },
          "hovermode": "closest",
          "mapbox": {
           "style": "light"
          },
          "paper_bgcolor": "white",
          "plot_bgcolor": "#E5ECF6",
          "polar": {
           "angularaxis": {
            "gridcolor": "white",
            "linecolor": "white",
            "ticks": ""
           },
           "bgcolor": "#E5ECF6",
           "radialaxis": {
            "gridcolor": "white",
            "linecolor": "white",
            "ticks": ""
           }
          },
          "scene": {
           "xaxis": {
            "backgroundcolor": "#E5ECF6",
            "gridcolor": "white",
            "gridwidth": 2,
            "linecolor": "white",
            "showbackground": true,
            "ticks": "",
            "zerolinecolor": "white"
           },
           "yaxis": {
            "backgroundcolor": "#E5ECF6",
            "gridcolor": "white",
            "gridwidth": 2,
            "linecolor": "white",
            "showbackground": true,
            "ticks": "",
            "zerolinecolor": "white"
           },
           "zaxis": {
            "backgroundcolor": "#E5ECF6",
            "gridcolor": "white",
            "gridwidth": 2,
            "linecolor": "white",
            "showbackground": true,
            "ticks": "",
            "zerolinecolor": "white"
           }
          },
          "shapedefaults": {
           "line": {
            "color": "#2a3f5f"
           }
          },
          "ternary": {
           "aaxis": {
            "gridcolor": "white",
            "linecolor": "white",
            "ticks": ""
           },
           "baxis": {
            "gridcolor": "white",
            "linecolor": "white",
            "ticks": ""
           },
           "bgcolor": "#E5ECF6",
           "caxis": {
            "gridcolor": "white",
            "linecolor": "white",
            "ticks": ""
           }
          },
          "title": {
           "x": 0.05
          },
          "xaxis": {
           "automargin": true,
           "gridcolor": "white",
           "linecolor": "white",
           "ticks": "",
           "title": {
            "standoff": 15
           },
           "zerolinecolor": "white",
           "zerolinewidth": 2
          },
          "yaxis": {
           "automargin": true,
           "gridcolor": "white",
           "linecolor": "white",
           "ticks": "",
           "title": {
            "standoff": 15
           },
           "zerolinecolor": "white",
           "zerolinewidth": 2
          }
         }
        },
        "xaxis": {
         "anchor": "y",
         "domain": [
          0,
          1
         ],
         "title": {
          "text": "lda1"
         }
        },
        "yaxis": {
         "anchor": "x",
         "domain": [
          0,
          1
         ],
         "title": {
          "text": "lda2"
         }
        }
       }
      }
     },
     "metadata": {},
     "output_type": "display_data"
    }
   ],
   "source": [
    "import plotly.express as px\n",
    "px.scatter(data_frame= X_new, x = 'lda1', y = 'lda2', color=data.Location.tolist())"
   ]
  },
  {
   "cell_type": "code",
   "execution_count": 56,
   "metadata": {},
   "outputs": [
    {
     "name": "stdout",
     "output_type": "stream",
     "text": [
      "\n",
      "\n"
     ]
    },
    {
     "data": {
      "text/html": [
       "<div>\n",
       "<style scoped>\n",
       "    .dataframe tbody tr th:only-of-type {\n",
       "        vertical-align: middle;\n",
       "    }\n",
       "\n",
       "    .dataframe tbody tr th {\n",
       "        vertical-align: top;\n",
       "    }\n",
       "\n",
       "    .dataframe thead th {\n",
       "        text-align: right;\n",
       "    }\n",
       "</style>\n",
       "<table border=\"1\" class=\"dataframe\">\n",
       "  <thead>\n",
       "    <tr style=\"text-align: right;\">\n",
       "      <th></th>\n",
       "      <th>N</th>\n",
       "      <th>Mean</th>\n",
       "      <th>SD</th>\n",
       "      <th>SE</th>\n",
       "      <th>95% Conf.</th>\n",
       "      <th>Interval</th>\n",
       "    </tr>\n",
       "    <tr>\n",
       "      <th>Location</th>\n",
       "      <th></th>\n",
       "      <th></th>\n",
       "      <th></th>\n",
       "      <th></th>\n",
       "      <th></th>\n",
       "      <th></th>\n",
       "    </tr>\n",
       "  </thead>\n",
       "  <tbody>\n",
       "    <tr>\n",
       "      <th>Bajo</th>\n",
       "      <td>48</td>\n",
       "      <td>1.4118</td>\n",
       "      <td>1.2696</td>\n",
       "      <td>0.1833</td>\n",
       "      <td>1.0432</td>\n",
       "      <td>1.7805</td>\n",
       "    </tr>\n",
       "    <tr>\n",
       "      <th>Wengkhar</th>\n",
       "      <td>48</td>\n",
       "      <td>1.9207</td>\n",
       "      <td>1.6311</td>\n",
       "      <td>0.2354</td>\n",
       "      <td>1.4471</td>\n",
       "      <td>2.3943</td>\n",
       "    </tr>\n",
       "    <tr>\n",
       "      <th>Yusipang</th>\n",
       "      <td>48</td>\n",
       "      <td>0.5233</td>\n",
       "      <td>0.3079</td>\n",
       "      <td>0.0444</td>\n",
       "      <td>0.4339</td>\n",
       "      <td>0.6127</td>\n",
       "    </tr>\n",
       "  </tbody>\n",
       "</table>\n",
       "</div>"
      ],
      "text/plain": [
       "           N    Mean      SD      SE  95% Conf.  Interval\n",
       "Location                                                 \n",
       "Bajo      48  1.4118  1.2696  0.1833     1.0432    1.7805\n",
       "Wengkhar  48  1.9207  1.6311  0.2354     1.4471    2.3943\n",
       "Yusipang  48  0.5233  0.3079  0.0444     0.4339    0.6127"
      ]
     },
     "execution_count": 56,
     "metadata": {},
     "output_type": "execute_result"
    }
   ],
   "source": [
    "rp.summary_cont(data['FreshYield'].groupby(data['Location']))"
   ]
  },
  {
   "cell_type": "code",
   "execution_count": null,
   "metadata": {},
   "outputs": [],
   "source": []
  }
 ],
 "metadata": {
  "interpreter": {
   "hash": "c0164cfe9ca7f9cb0ec22443c19bd176014871c6d3da8eced25fdb31b6ee75ef"
  },
  "kernelspec": {
   "display_name": "Python 3.10.0 64-bit",
   "language": "python",
   "name": "python3"
  },
  "language_info": {
   "codemirror_mode": {
    "name": "ipython",
    "version": 3
   },
   "file_extension": ".py",
   "mimetype": "text/x-python",
   "name": "python",
   "nbconvert_exporter": "python",
   "pygments_lexer": "ipython3",
   "version": "3.8.12"
  },
  "orig_nbformat": 4
 },
 "nbformat": 4,
 "nbformat_minor": 2
}
